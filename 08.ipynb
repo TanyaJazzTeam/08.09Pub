{
 "cells": [
  {
   "cell_type": "markdown",
   "id": "4fd5f895",
   "metadata": {},
   "source": [
    "<!---\n",
    "\n",
    "Hi Ilya\n",
    "-->"
   ]
  },
  {
   "cell_type": "markdown",
   "id": "2c64fa64",
   "metadata": {},
   "source": [
    "# LESSON 2."
   ]
  },
  {
   "cell_type": "markdown",
   "id": "350b8d51",
   "metadata": {},
   "source": [
    "## The family you come from"
   ]
  },
  {
   "cell_type": "markdown",
   "id": "1d52120c",
   "metadata": {},
   "source": [
    "1. Look at the words below. What does a suffi x -hood mean?\n",
    "2. Add more words to the list.\n",
    "3. Work in pairs. Discuss the questions about your childhood.?"
   ]
  },
  {
   "cell_type": "markdown",
   "id": "6f9ae721",
   "metadata": {},
   "source": [
    "# LESSON 3."
   ]
  },
  {
   "cell_type": "markdown",
   "id": "96a1cb88",
   "metadata": {},
   "source": [
    "## A modern family"
   ]
  },
  {
   "cell_type": "markdown",
   "id": "f0c4541e",
   "metadata": {},
   "source": [
    "* What can statistics tell you about? Are you interested in\n",
    "statistics? Read the information below. Is statistics a singular or\n",
    "plural noun?\n",
    "* What can statistics say about an average modern family? Use the\n",
    "promts below and your own ideas."
   ]
  },
  {
   "cell_type": "markdown",
   "id": "0928d65a",
   "metadata": {},
   "source": [
    "***"
   ]
  },
  {
   "cell_type": "markdown",
   "id": "d45d64d2",
   "metadata": {},
   "source": [
    "> Table"
   ]
  },
  {
   "cell_type": "markdown",
   "id": "e9cbe20a",
   "metadata": {},
   "source": [
    "| Name                          | answer | \n",
    "|-------------------------------| -------|\n",
    "|more than nine in ten parents  | 90 min |\n",
    "|around a fifth of the families | 91%    |\n",
    "|half past eight                | 31%    |\n",
    "|nearly a third                 | 8:30   |"
   ]
  },
  {
   "cell_type": "markdown",
   "id": "2a565d57",
   "metadata": {},
   "source": [
    "[Milk](https://ru.wikipedia.org/wiki/%D0%9C%D0%BE%D0%BB%D0%BE%D0%BA%D0%BE)"
   ]
  },
  {
   "cell_type": "markdown",
   "id": "f100f937",
   "metadata": {},
   "source": [
    "---"
   ]
  },
  {
   "cell_type": "markdown",
   "id": "680b4bb7",
   "metadata": {},
   "source": [
    "[Cheese](https://ru.wikipedia.org/wiki/%D0%A1%D1%8B%D1%80)"
   ]
  },
  {
   "cell_type": "markdown",
   "id": "8d6f29b0",
   "metadata": {},
   "source": [
    "### Photo"
   ]
  },
  {
   "cell_type": "markdown",
   "id": "0f8bf244",
   "metadata": {},
   "source": [
    "![p1]https://ekootkr.ot7.ru/admin/uploads/7/7/1/%D0%9E%D1%82%D0%BA%D1%80%D1%8B%D1%82%D0%BA%D0%B0-%D1%81-%D1%86%D0%B2%D0%B5%D1%82%D0%B0%D0%BC%D0%B8-%D0%BF%D0%BE%D0%B7%D0%B4%D1%80%D0%B0%D0%B2%D0%BB%D1%8F%D1%8E-%D0%BA%D0%B0%D1%80%D1%82%D0%B8%D0%BD%D0%BA%D0%B8-%D1%81-%D0%BD%D0%B0%D0%B4%D0%BF%D0%B8%D1%81%D1%8C%D1%8E-%D0%9F%D0%BE%D0%B7%D0%B4%D1%80%D0%B0%D0%B2%D0%BB%D1%8F%D1%8E-11515.jpg)"
   ]
  },
  {
   "cell_type": "markdown",
   "id": "10e72dd7",
   "metadata": {},
   "source": [
    "![p2](https://c.tenor.com/9zmtHZ0tIjkAAAAj/nyancat-rainbow-cat.gif)"
   ]
  },
  {
   "cell_type": "markdown",
   "id": "459060a5",
   "metadata": {},
   "source": [
    "![p3](https://c.tenor.com/S_WORoAuUq8AAAAM/yummy-funny.gif)"
   ]
  },
  {
   "cell_type": "markdown",
   "id": "cb0a671c",
   "metadata": {},
   "source": [
    "~~~\n",
    "{\n",
    "  <html>\n",
    "<head>\n",
    "<meta charset=\"UTF-8\">\n",
    "<title>Заголовок страницы</title>\n",
    "</head>\n",
    "  <body>\n",
    "    <h1>Это заголовок</h1>\n",
    "    <p>Это параграф.</p>\n",
    "  </body>\n",
    "</html>\n",
    "}\n",
    "~~~"
   ]
  }
 ],
 "metadata": {
  "kernelspec": {
   "display_name": "Python 3",
   "language": "python",
   "name": "python3"
  },
  "language_info": {
   "codemirror_mode": {
    "name": "ipython",
    "version": 3
   },
   "file_extension": ".py",
   "mimetype": "text/x-python",
   "name": "python",
   "nbconvert_exporter": "python",
   "pygments_lexer": "ipython3",
   "version": "3.8.8"
  }
 },
 "nbformat": 4,
 "nbformat_minor": 5
}
