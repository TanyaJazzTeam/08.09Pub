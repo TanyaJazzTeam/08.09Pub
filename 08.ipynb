{
 "cells": [
  {
   "cell_type": "markdown",
   "id": "38ff7d7b",
   "metadata": {},
   "source": [
    "# LESSON 2."
   ]
  },
  {
   "cell_type": "markdown",
   "id": "6961b81c",
   "metadata": {},
   "source": [
    "## The family you come from"
   ]
  },
  {
   "cell_type": "markdown",
   "id": "fe2fe76b",
   "metadata": {},
   "source": [
    "1. Look at the words below. What does a suffi x -hood mean?\n",
    "2. Add more words to the list.\n",
    "3. Work in pairs. Discuss the questions about your childhood.?"
   ]
  },
  {
   "cell_type": "markdown",
   "id": "183e3007",
   "metadata": {},
   "source": [
    "# LESSON 3."
   ]
  },
  {
   "cell_type": "markdown",
   "id": "4a0d980d",
   "metadata": {},
   "source": [
    "## A modern family"
   ]
  },
  {
   "cell_type": "markdown",
   "id": "781c73d9",
   "metadata": {},
   "source": [
    "* What can statistics tell you about? Are you interested in\n",
    "statistics? Read the information below. Is statistics a singular or\n",
    "plural noun?\n",
    "* What can statistics say about an average modern family? Use the\n",
    "promts below and your own ideas."
   ]
  },
  {
   "cell_type": "markdown",
   "id": "8b16be57",
   "metadata": {},
   "source": [
    "***"
   ]
  },
  {
   "cell_type": "markdown",
   "id": "ace003f4",
   "metadata": {},
   "source": [
    "> Table"
   ]
  },
  {
   "cell_type": "markdown",
   "id": "08620492",
   "metadata": {},
   "source": [
    "|Brand  | Country|\n",
    "|------ | -------|\n",
    "|BMW    | Germany|\n",
    "|Citroen| France |"
   ]
  }
 ],
 "metadata": {
  "kernelspec": {
   "display_name": "Python 3",
   "language": "python",
   "name": "python3"
  },
  "language_info": {
   "codemirror_mode": {
    "name": "ipython",
    "version": 3
   },
   "file_extension": ".py",
   "mimetype": "text/x-python",
   "name": "python",
   "nbconvert_exporter": "python",
   "pygments_lexer": "ipython3",
   "version": "3.8.8"
  }
 },
 "nbformat": 4,
 "nbformat_minor": 5
}
