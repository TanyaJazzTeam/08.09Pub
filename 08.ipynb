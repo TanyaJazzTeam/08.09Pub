{
 "cells": [
  {
   "cell_type": "markdown",
   "id": "8f618c9e",
   "metadata": {},
   "source": [
    "<!---\n",
    "\n",
    "Hi Ilya\n",
    "-->"
   ]
  },
  {
   "cell_type": "markdown",
   "id": "ad0fccf0",
   "metadata": {},
   "source": [
    "# LESSON 2."
   ]
  },
  {
   "cell_type": "markdown",
   "id": "585f9003",
   "metadata": {},
   "source": [
    "## The family you come from"
   ]
  },
  {
   "cell_type": "markdown",
   "id": "0cad3d56",
   "metadata": {},
   "source": [
    "1. Look at the words below. What does a suffi x -hood mean?\n",
    "2. Add more words to the list.\n",
    "3. Work in pairs. Discuss the questions about your childhood.?"
   ]
  },
  {
   "cell_type": "markdown",
   "id": "4c362f0c",
   "metadata": {},
   "source": [
    "# LESSON 3."
   ]
  },
  {
   "cell_type": "markdown",
   "id": "150dee68",
   "metadata": {},
   "source": [
    "## A modern family"
   ]
  },
  {
   "cell_type": "markdown",
   "id": "1f373133",
   "metadata": {},
   "source": [
    "* What can statistics tell you about? Are you interested in\n",
    "statistics? Read the information below. Is statistics a singular or\n",
    "plural noun?\n",
    "* What can statistics say about an average modern family? Use the\n",
    "promts below and your own ideas."
   ]
  },
  {
   "cell_type": "markdown",
   "id": "a5275aa1",
   "metadata": {},
   "source": [
    "***"
   ]
  },
  {
   "cell_type": "markdown",
   "id": "0d0bc69c",
   "metadata": {},
   "source": [
    "> Table"
   ]
  },
  {
   "cell_type": "markdown",
   "id": "920b3263",
   "metadata": {},
   "source": [
    "| Name                          | answer | \n",
    "|-------------------------------| -------|\n",
    "|more than nine in ten parents  | 90 min |\n",
    "|around a fifth of the families | 91%    |\n",
    "|half past eight                | 31%    |\n",
    "|nearly a third                 | 8:30   |"
   ]
  },
  {
   "cell_type": "markdown",
   "id": "ec933ef8",
   "metadata": {},
   "source": [
    "[Milk](https://ru.wikipedia.org/wiki/%D0%9C%D0%BE%D0%BB%D0%BE%D0%BA%D0%BE)"
   ]
  },
  {
   "cell_type": "markdown",
   "id": "8a4fef48",
   "metadata": {},
   "source": [
    "---"
   ]
  },
  {
   "cell_type": "markdown",
   "id": "4474038f",
   "metadata": {},
   "source": [
    "[Cheese](https://ru.wikipedia.org/wiki/%D0%A1%D1%8B%D1%80)"
   ]
  },
  {
   "cell_type": "markdown",
   "id": "2f7e0337",
   "metadata": {},
   "source": [
    "### Photo"
   ]
  },
  {
   "cell_type": "markdown",
   "id": "2ccecde8",
   "metadata": {},
   "source": [
    "![p1](https://funart.pro/uploads/posts/2021-04/1618099594_32-p-severnii-olen-v-tundre-zhivotnie-krasivo-f-35.jpg)"
   ]
  },
  {
   "cell_type": "markdown",
   "id": "b6c546d3",
   "metadata": {},
   "source": [
    "![p2](https://i.gifer.com/y4.mp4)"
   ]
  },
  {
   "cell_type": "markdown",
   "id": "5ab91edc",
   "metadata": {},
   "source": [
    "![p3](https://i.gifer.com/XOsX.gif)"
   ]
  },
  {
   "cell_type": "markdown",
   "id": "81a83bf9",
   "metadata": {},
   "source": [
    "~~~\n",
    "{\n",
    "  <html>\n",
    "<head>\n",
    "<meta charset=\"UTF-8\">\n",
    "<title>Заголовок страницы</title>\n",
    "</head>\n",
    "  <body>\n",
    "    <h1>Это заголовок</h1>\n",
    "    <p>Это параграф.</p>\n",
    "  </body>\n",
    "</html>\n",
    "}\n",
    "~~~"
   ]
  }
 ],
 "metadata": {
  "kernelspec": {
   "display_name": "Python 3",
   "language": "python",
   "name": "python3"
  },
  "language_info": {
   "codemirror_mode": {
    "name": "ipython",
    "version": 3
   },
   "file_extension": ".py",
   "mimetype": "text/x-python",
   "name": "python",
   "nbconvert_exporter": "python",
   "pygments_lexer": "ipython3",
   "version": "3.8.8"
  }
 },
 "nbformat": 4,
 "nbformat_minor": 5
}
