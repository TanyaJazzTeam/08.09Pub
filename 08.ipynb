{
 "cells": [
  {
   "cell_type": "markdown",
   "id": "3bcfc330",
   "metadata": {},
   "source": [
    "# LESSON 2."
   ]
  },
  {
   "cell_type": "markdown",
   "id": "7b280dc0",
   "metadata": {},
   "source": [
    "## The family you come from"
   ]
  },
  {
   "cell_type": "markdown",
   "id": "bb6a0067",
   "metadata": {},
   "source": [
    "1. Look at the words below. What does a suffi x -hood mean?\n",
    "2. Add more words to the list.\n",
    "3. Work in pairs. Discuss the questions about your childhood.?"
   ]
  },
  {
   "cell_type": "markdown",
   "id": "7d2aa0c1",
   "metadata": {},
   "source": [
    "# LESSON 3."
   ]
  },
  {
   "cell_type": "markdown",
   "id": "7528eac4",
   "metadata": {},
   "source": [
    "## A modern family"
   ]
  },
  {
   "cell_type": "markdown",
   "id": "de14791e",
   "metadata": {},
   "source": [
    "* What can statistics tell you about? Are you interested in\n",
    "statistics? Read the information below. Is statistics a singular or\n",
    "plural noun?\n",
    "* What can statistics say about an average modern family? Use the\n",
    "promts below and your own ideas."
   ]
  },
  {
   "cell_type": "markdown",
   "id": "d9120f68",
   "metadata": {},
   "source": [
    "***"
   ]
  },
  {
   "cell_type": "markdown",
   "id": "de2d6b5a",
   "metadata": {},
   "source": [
    "> Table"
   ]
  },
  {
   "cell_type": "markdown",
   "id": "90d816b0",
   "metadata": {},
   "source": [
    "| Name                          | answer | \n",
    "|-------------------------------| -------|\n",
    "|more than nine in ten parents  | 90 min |\n",
    "|around a fifth of the families | 91%    |\n",
    "|half past eight                | 31%    |\n",
    "|nearly a third                 | 8:30   |"
   ]
  },
  {
   "cell_type": "markdown",
   "id": "f1d33465",
   "metadata": {},
   "source": [
    "[Milk](https://ru.wikipedia.org/wiki/%D0%9C%D0%BE%D0%BB%D0%BE%D0%BA%D0%BE)"
   ]
  },
  {
   "cell_type": "markdown",
   "id": "9b1f5a5c",
   "metadata": {},
   "source": [
    "---"
   ]
  },
  {
   "cell_type": "markdown",
   "id": "3b250a05",
   "metadata": {},
   "source": [
    "[Cheese](https://ru.wikipedia.org/wiki/%D0%A1%D1%8B%D1%80)"
   ]
  },
  {
   "cell_type": "markdown",
   "id": "e36ad604",
   "metadata": {},
   "source": [
    "### Photo"
   ]
  },
  {
   "cell_type": "markdown",
   "id": "d3325bf8",
   "metadata": {},
   "source": [
    "![p1](http://s4.fotokto.ru/photo/full/331/3316553.jpg)"
   ]
  },
  {
   "cell_type": "markdown",
   "id": "33c1db6f",
   "metadata": {},
   "source": [
    "![p2](https://i.gifer.com/y4.mp4)"
   ]
  },
  {
   "cell_type": "markdown",
   "id": "77bd3204",
   "metadata": {},
   "source": [
    "![p3](https://i.gifer.com/XOsX.gif)"
   ]
  },
  {
   "cell_type": "markdown",
   "id": "970f9193",
   "metadata": {},
   "source": [
    "~~~\n",
    "{\n",
    "  <html>\n",
    "<head>\n",
    "<meta charset=\"UTF-8\">\n",
    "<title>Заголовок страницы</title>\n",
    "</head>\n",
    "  <body>\n",
    "    <h1>Это заголовок</h1>\n",
    "    <p>Это параграф.</p>\n",
    "  </body>\n",
    "</html>\n",
    "}\n",
    "~~~"
   ]
  }
 ],
 "metadata": {
  "kernelspec": {
   "display_name": "Python 3",
   "language": "python",
   "name": "python3"
  },
  "language_info": {
   "codemirror_mode": {
    "name": "ipython",
    "version": 3
   },
   "file_extension": ".py",
   "mimetype": "text/x-python",
   "name": "python",
   "nbconvert_exporter": "python",
   "pygments_lexer": "ipython3",
   "version": "3.8.8"
  }
 },
 "nbformat": 4,
 "nbformat_minor": 5
}
