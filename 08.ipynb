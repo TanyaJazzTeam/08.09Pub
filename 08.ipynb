{
 "cells": [
  {
   "cell_type": "markdown",
   "id": "fe2386d5",
   "metadata": {},
   "source": [
    "<!---\n",
    "\n",
    "Hi Ilya\n",
    "-->"
   ]
  },
  {
   "cell_type": "markdown",
   "id": "1c651a55",
   "metadata": {},
   "source": [
    "# LESSON 2."
   ]
  },
  {
   "cell_type": "markdown",
   "id": "1e737b38",
   "metadata": {},
   "source": [
    "## The family you come from"
   ]
  },
  {
   "cell_type": "markdown",
   "id": "53de470f",
   "metadata": {},
   "source": [
    "1. Look at the words below. What does a suffi x -hood mean?\n",
    "2. Add more words to the list.\n",
    "3. Work in pairs. Discuss the questions about your childhood.?"
   ]
  },
  {
   "cell_type": "markdown",
   "id": "1bea0333",
   "metadata": {},
   "source": [
    "# LESSON 3."
   ]
  },
  {
   "cell_type": "markdown",
   "id": "a968183b",
   "metadata": {},
   "source": [
    "## A modern family"
   ]
  },
  {
   "cell_type": "markdown",
   "id": "5e5a6297",
   "metadata": {},
   "source": [
    "* What can statistics tell you about? Are you interested in\n",
    "statistics? Read the information below. Is statistics a singular or\n",
    "plural noun?\n",
    "* What can statistics say about an average modern family? Use the\n",
    "promts below and your own ideas."
   ]
  },
  {
   "cell_type": "markdown",
   "id": "dc273e20",
   "metadata": {},
   "source": [
    "***"
   ]
  },
  {
   "cell_type": "markdown",
   "id": "b192f5af",
   "metadata": {},
   "source": [
    "> Table"
   ]
  },
  {
   "cell_type": "markdown",
   "id": "64c55208",
   "metadata": {},
   "source": [
    "| Name                          | answer | \n",
    "|-------------------------------| -------|\n",
    "|more than nine in ten parents  | 90 min |\n",
    "|around a fifth of the families | 91%    |\n",
    "|half past eight                | 31%    |\n",
    "|nearly a third                 | 8:30   |"
   ]
  },
  {
   "cell_type": "markdown",
   "id": "ca8353a9",
   "metadata": {},
   "source": [
    "[Milk](https://ru.wikipedia.org/wiki/%D0%9C%D0%BE%D0%BB%D0%BE%D0%BA%D0%BE)"
   ]
  },
  {
   "cell_type": "markdown",
   "id": "0de5dcf4",
   "metadata": {},
   "source": [
    "---"
   ]
  },
  {
   "cell_type": "markdown",
   "id": "4c044dde",
   "metadata": {},
   "source": [
    "[Cheese](https://ru.wikipedia.org/wiki/%D0%A1%D1%8B%D1%80)"
   ]
  },
  {
   "cell_type": "markdown",
   "id": "61c7b7c8",
   "metadata": {},
   "source": [
    "### Photo"
   ]
  },
  {
   "cell_type": "markdown",
   "id": "b9a9af78",
   "metadata": {},
   "source": [
    "![p1](https://funart.pro/uploads/posts/2021-04/1618099594_32-p-severnii-olen-v-tundre-zhivotnie-krasivo-f-35.jpg)"
   ]
  },
  {
   "cell_type": "markdown",
   "id": "6efe80f0",
   "metadata": {},
   "source": [
    "![p2](https://c.tenor.com/9zmtHZ0tIjkAAAAj/nyancat-rainbow-cat.gif)"
   ]
  },
  {
   "cell_type": "markdown",
   "id": "e93416f8",
   "metadata": {},
   "source": [
    "![p3](https://c.tenor.com/S_WORoAuUq8AAAAM/yummy-funny.gif)"
   ]
  },
  {
   "cell_type": "markdown",
   "id": "917012d6",
   "metadata": {},
   "source": [
    "~~~\n",
    "{\n",
    "  <html>\n",
    "<head>\n",
    "<meta charset=\"UTF-8\">\n",
    "<title>Заголовок страницы</title>\n",
    "</head>\n",
    "  <body>\n",
    "    <h1>Это заголовок</h1>\n",
    "    <p>Это параграф.</p>\n",
    "  </body>\n",
    "</html>\n",
    "}\n",
    "~~~"
   ]
  }
 ],
 "metadata": {
  "kernelspec": {
   "display_name": "Python 3",
   "language": "python",
   "name": "python3"
  },
  "language_info": {
   "codemirror_mode": {
    "name": "ipython",
    "version": 3
   },
   "file_extension": ".py",
   "mimetype": "text/x-python",
   "name": "python",
   "nbconvert_exporter": "python",
   "pygments_lexer": "ipython3",
   "version": "3.8.8"
  }
 },
 "nbformat": 4,
 "nbformat_minor": 5
}
